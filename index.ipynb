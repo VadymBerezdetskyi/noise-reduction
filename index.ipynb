{
 "cells": [
  {
   "cell_type": "code",
   "execution_count": 12,
   "metadata": {},
   "outputs": [
    {
     "name": "stdout",
     "output_type": "stream",
     "text": [
      "44100           0\n",
      "0       937\n",
      "1      1865\n",
      "2      2814\n",
      "3      3728\n",
      "4      4592\n",
      "...     ...\n",
      "88196 -2498\n",
      "88197 -1600\n",
      "88198  -710\n",
      "88199   191\n",
      "88200  1099\n",
      "\n",
      "[88201 rows x 1 columns]\n"
     ]
    }
   ],
   "source": [
    "from scipy.io import wavfile\n",
    "import pandas as pd\n",
    "\n",
    "samplerate, data = wavfile.read('./data.wav')\n",
    "\n",
    "df = pd.DataFrame(data)\n",
    "print(samplerate, df)"
   ]
  },
  {
   "cell_type": "code",
   "execution_count": null,
   "metadata": {},
   "outputs": [],
   "source": []
  },
  {
   "cell_type": "code",
   "execution_count": 13,
   "metadata": {},
   "outputs": [],
   "source": [
    "# play file\n",
    "# render dataframe plot"
   ]
  },
  {
   "cell_type": "code",
   "execution_count": 14,
   "metadata": {},
   "outputs": [
    {
     "name": "stdout",
     "output_type": "stream",
     "text": [
      "             0\n",
      "0          NaN\n",
      "1          NaN\n",
      "2          NaN\n",
      "3      2336.00\n",
      "4      3249.75\n",
      "...        ...\n",
      "88196 -3778.25\n",
      "88197 -2930.00\n",
      "88198 -2050.25\n",
      "88199 -1154.25\n",
      "88200  -255.00\n",
      "\n",
      "[88201 rows x 1 columns]\n"
     ]
    }
   ],
   "source": [
    "window = 4 # changable\n",
    "rolling_mean = df.rolling(window=window).mean()\n",
    "\n",
    "print(rolling_mean)\n",
    "\n",
    "# play file\n",
    "# render dataframe plot"
   ]
  },
  {
   "cell_type": "code",
   "execution_count": 16,
   "metadata": {},
   "outputs": [],
   "source": [
    "# save file\n",
    "wavfile.write('result_{window}.wav'.format(window=window), samplerate, rolling_mean.to_numpy())"
   ]
  }
 ],
 "metadata": {
  "interpreter": {
   "hash": "916dbcbb3f70747c44a77c7bcd40155683ae19c65e1c03b4aa3499c5328201f1"
  },
  "kernelspec": {
   "display_name": "Python 3.8.10 64-bit",
   "name": "python3"
  },
  "language_info": {
   "codemirror_mode": {
    "name": "ipython",
    "version": 3
   },
   "file_extension": ".py",
   "mimetype": "text/x-python",
   "name": "python",
   "nbconvert_exporter": "python",
   "pygments_lexer": "ipython3",
   "version": "3.8.10"
  },
  "orig_nbformat": 4
 },
 "nbformat": 4,
 "nbformat_minor": 2
}
